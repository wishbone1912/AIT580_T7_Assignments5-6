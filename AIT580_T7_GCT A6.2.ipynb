{
 "cells": [
  {
   "cell_type": "markdown",
   "metadata": {},
   "source": [
    "# AIT580 Assignment 6.2 - Hypothesis Tests in R\n",
    "###### ---------------------------------------------------------------------------------------\n",
    "##### Purpose for GMU-AIT students to learn Hypothesis Testing with R for Data Science\n",
    "##### The templated created by Dr. Liao (6/5/2020)\n",
    "###### ---------------------------------------------------------------------------------------\n",
    "##### Student ID:\n",
    "##### Student's Full Name: John Gullette, Karyna Todd, Rebeca Conn\n",
    "##### Submission Date: 09/12/2021\n",
    "###### ---------------------------------------------------------------------------------------"
   ]
  },
  {
   "cell_type": "markdown",
   "metadata": {},
   "source": [
    "#### Remove all objects from the current workspace (R memory)"
   ]
  },
  {
   "cell_type": "code",
   "execution_count": 1,
   "metadata": {},
   "outputs": [],
   "source": [
    "rm(list=ls())"
   ]
  },
  {
   "cell_type": "markdown",
   "metadata": {},
   "source": [
    "#### Load CSV file and create the dataframe"
   ]
  },
  {
   "cell_type": "code",
   "execution_count": 2,
   "metadata": {},
   "outputs": [],
   "source": [
    "data <- read.csv('EmployeeAttrition.csv')"
   ]
  },
  {
   "cell_type": "markdown",
   "metadata": {},
   "source": [
    "#### Write R code to perform Hypothesis Testing to choose between Null and Alternative Hypothesis and provide justification to your decision with explanation. Use 95% Confidence Interval for all the answers:\n"
   ]
  },
  {
   "cell_type": "markdown",
   "metadata": {},
   "source": [
    "#### 1. If the average of HourlyRate of all the employees is equal to $65."
   ]
  },
  {
   "cell_type": "code",
   "execution_count": 10,
   "metadata": {},
   "outputs": [
    {
     "data": {
      "text/plain": [
       "\n",
       "\tOne Sample t-test\n",
       "\n",
       "data:  data$HourlyRate\n",
       "t = 1.6807, df = 1469, p-value = 0.09304\n",
       "alternative hypothesis: true mean is not equal to 65\n",
       "95 percent confidence interval:\n",
       " 64.85106 66.93125\n",
       "sample estimates:\n",
       "mean of x \n",
       " 65.89116 \n"
      ]
     },
     "metadata": {},
     "output_type": "display_data"
    }
   ],
   "source": [
    "t.test(data$HourlyRate, mu = 65)"
   ]
  },
  {
   "cell_type": "markdown",
   "metadata": {},
   "source": [
    "The P value > .05, so we accept the hypothesis that the average hourly rate is equal to 65. "
   ]
  },
  {
   "cell_type": "markdown",
   "metadata": {},
   "source": [
    "#### 2. If the YearsAtCompany of Single is less than Married. "
    "#### H0:  YearsAtCompany of Single is greater than or equal to Married."
    "#### H1:  YearsAtCompany of Single is less than Married."
   ]
  },
  {
   "cell_type": "code",
   "execution_count": 11,
   "metadata": {},
   "outputs": [
    {
     "data": {
      "text/plain": [
       "\n",
       "\tWelch Two Sample t-test\n",
       "\n",
       "data:  YearsAtCompany[MaritalStatus == \"Single\"] and YearsAtCompany[MaritalStatus == \"Married\"]\n",
       "t = -2.5824, df = 1040.8, p-value = 0.009946\n",
       "alternative hypothesis: true difference in means is not equal to 0\n",
       "95 percent confidence interval:\n",
       " -1.6421284 -0.2240914\n",
       "sample estimates:\n",
       "mean of x mean of y \n",
       " 6.374468  7.307578 \n"
      ]
     },
     "metadata": {},
     "output_type": "display_data"
    }
   ],
   "source": [
    "with(data, t.test(YearsAtCompany[MaritalStatus == 'Single'], YearsAtCompany[MaritalStatus == 'Married'] , alternative = "less"))"
   ]
  },
  {
   "cell_type": "markdown",
   "metadata": {},
   "source": [
    "The P value < .05, so we reject the null hypothesis, meaning the average years at the company for a single person is not equal to the average years at the company of a married person. "
   ]
  },
  {
   "cell_type": "markdown",
   "metadata": {},
   "source": [
    "#### 3. If the JobSatisfaction of Attrition=Yes is less than Attrition=No. "
    "#### H0: JobSatisfaction of Attrition=Yes is greater than or equal to Attrition=No."
    "#### H1: JobSatisfaction of Attrition=Yes is less than Attrition=No."
   ]
  },
  {
   "cell_type": "code",
   "execution_count": 12,
   "metadata": {},
   "outputs": [
    {
     "data": {
      "text/plain": [
       "\n",
       "\tWelch Two Sample t-test\n",
       "\n",
       "data:  JobSatisfaction[Attrition == \"Yes\"] and JobSatisfaction[Attrition == \"No\"]\n",
       "t = -3.9261, df = 328.59, p-value = 0.0001052\n",
       "alternative hypothesis: true difference in means is not equal to 0\n",
       "95 percent confidence interval:\n",
       " -0.4656797 -0.1547890\n",
       "sample estimates:\n",
       "mean of x mean of y \n",
       " 2.468354  2.778589 \n"
      ]
     },
     "metadata": {},
     "output_type": "display_data"
    }
   ],
   "source": [
    "with(data, t.test(JobSatisfaction[Attrition == 'Yes'], JobSatisfaction[Attrition == 'No'], alternative = "less"))"
   ]
  },
  {
   "cell_type": "markdown",
   "metadata": {},
   "source": [
    "The P value is < .05, so we reject the null hypothesis, which means the job satisfaction is not the same whether there is or is not attrition. "
   ]
  },
  {
   "cell_type": "markdown",
   "metadata": {},
   "source": [
    "#### 4. If the MonthlyIncome of Manager is almost equal to Research Director in senior positions whose ages are greater than 40. "
   ]
  },
  {
   "cell_type": "code",
   "execution_count": 13,
   "metadata": {},
   "outputs": [
    {
     "data": {
      "text/plain": [
       "\n",
       "\tWelch Two Sample t-test\n",
       "\n",
       "data:  MonthlyIncome[JobRole == \"Manager\"] and MonthlyIncome[JobRole == \"Research Director\" & Age > 40]\n",
       "t = -0.10242, df = 107.37, p-value = 0.9186\n",
       "alternative hypothesis: true difference in means is not equal to 0\n",
       "95 percent confidence interval:\n",
       " -806.9719  727.6834\n",
       "sample estimates:\n",
       "mean of x mean of y \n",
       " 17181.68  17221.32 \n"
      ]
     },
     "metadata": {},
     "output_type": "display_data"
    }
   ],
   "source": [
    "with(data, t.test(MonthlyIncome[JobRole == 'Manager'], MonthlyIncome[JobRole == 'Research Director' & Age > 40]))"
   ]
  },
  {
   "cell_type": "markdown",
   "metadata": {},
   "source": [
    "The P value > .05, so the null hypothesis is accepted; the monthly income of managers is almost equal to the monthly income of research directors over the age of 40. "
   ]
  },
  {
   "cell_type": "code",
   "execution_count": null,
   "metadata": {},
   "outputs": [],
   "source": []
  }
 ],
 "metadata": {
  "kernelspec": {
   "display_name": "R",
   "language": "R",
   "name": "ir"
  },
  "language_info": {
   "codemirror_mode": "r",
   "file_extension": ".r",
   "mimetype": "text/x-r-source",
   "name": "R",
   "pygments_lexer": "r",
   "version": "3.6.1"
  }
 },
 "nbformat": 4,
 "nbformat_minor": 4
}
